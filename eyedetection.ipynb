{
 "cells": [
  {
   "cell_type": "code",
   "execution_count": 71,
   "id": "c34a770f",
   "metadata": {},
   "outputs": [],
   "source": [
    "import tensorflow as tf\n",
    "import matplotlib.pyplot as plt\n",
    "import seaborn as sns\n",
    "import pandas as pd\n",
    "from tensorflow.keras.utils import image_dataset_from_directory"
   ]
  },
  {
   "cell_type": "markdown",
   "id": "150e4202",
   "metadata": {},
   "source": [
    "Data Pre-Processing"
   ]
  },
  {
   "cell_type": "code",
   "execution_count": 8,
   "id": "0111cb62",
   "metadata": {},
   "outputs": [
    {
     "name": "stdout",
     "output_type": "stream",
     "text": [
      "Found 76515 files belonging to 4 classes.\n"
     ]
    }
   ],
   "source": [
    "training_set = image_dataset_from_directory(\n",
    "    \"./train\",\n",
    "    labels=\"inferred\",\n",
    "    label_mode=\"categorical\",\n",
    "    class_names=None,\n",
    "    color_mode=\"rgb\",\n",
    "    batch_size=32,\n",
    "    image_size=(224, 224),\n",
    "    shuffle=True,\n",
    "    seed=None,\n",
    "    validation_split=None,\n",
    "    subset=None,\n",
    "    interpolation=\"bilinear\",\n",
    "    follow_links=False,\n",
    "    crop_to_aspect_ratio=False,\n",
    ")"
   ]
  },
  {
   "cell_type": "code",
   "execution_count": 9,
   "id": "52803f32",
   "metadata": {},
   "outputs": [
    {
     "name": "stdout",
     "output_type": "stream",
     "text": [
      "Found 21861 files belonging to 4 classes.\n"
     ]
    }
   ],
   "source": [
    "validation_set = image_dataset_from_directory(\n",
    "    \"./val\",\n",
    "    labels=\"inferred\",\n",
    "    label_mode=\"categorical\",\n",
    "    class_names=None,\n",
    "    color_mode=\"rgb\",\n",
    "    batch_size=32,\n",
    "    image_size=(224, 224),\n",
    "    shuffle=True,\n",
    "    seed=None,\n",
    "    validation_split=None,\n",
    "    subset=None,\n",
    "    interpolation=\"bilinear\",\n",
    "    follow_links=False,\n",
    "    crop_to_aspect_ratio=False,\n",
    ")"
   ]
  },
  {
   "cell_type": "code",
   "execution_count": 11,
   "id": "de4d9801",
   "metadata": {},
   "outputs": [
    {
     "data": {
      "text/plain": [
       "<_PrefetchDataset element_spec=(TensorSpec(shape=(None, 224, 224, 3), dtype=tf.float32, name=None), TensorSpec(shape=(None, 4), dtype=tf.float32, name=None))>"
      ]
     },
     "execution_count": 11,
     "metadata": {},
     "output_type": "execute_result"
    }
   ],
   "source": [
    "training_set"
   ]
  },
  {
   "cell_type": "code",
   "execution_count": 12,
   "id": "688ae8e1",
   "metadata": {},
   "outputs": [],
   "source": [
    "INPUT_SHAPE = (224,224,3)"
   ]
  },
  {
   "cell_type": "code",
   "execution_count": 13,
   "id": "5be95973",
   "metadata": {},
   "outputs": [],
   "source": [
    "mobilenet = tf.keras.applications.MobileNetV3Large(\n",
    "    input_shape=INPUT_SHAPE,\n",
    "    alpha=1.0,\n",
    "    minimalistic=False,\n",
    "    include_top=True,\n",
    "    weights=\"imagenet\",\n",
    "    input_tensor=None,\n",
    "    classes=1000,\n",
    "    pooling=None,\n",
    "    dropout_rate=0.2,\n",
    "    classifier_activation=\"softmax\",\n",
    "    include_preprocessing=True,\n",
    "    # name=\"MobileNetV3Large\",\n",
    ")"
   ]
  },
  {
   "cell_type": "code",
   "execution_count": 14,
   "id": "0b616e29",
   "metadata": {},
   "outputs": [],
   "source": [
    "model = tf.keras.models.Sequential()"
   ]
  },
  {
   "cell_type": "code",
   "execution_count": 15,
   "id": "a2f8ac97",
   "metadata": {},
   "outputs": [],
   "source": [
    "model.add(tf.keras.Input(shape=INPUT_SHAPE))"
   ]
  },
  {
   "cell_type": "code",
   "execution_count": 16,
   "id": "9938aea2",
   "metadata": {},
   "outputs": [],
   "source": [
    "model.add(mobilenet)"
   ]
  },
  {
   "cell_type": "code",
   "execution_count": 17,
   "id": "a0ae09c1",
   "metadata": {},
   "outputs": [],
   "source": [
    "model.add(tf.keras.layers.Dense(units = 4, activation=\"softmax\"))"
   ]
  },
  {
   "cell_type": "code",
   "execution_count": 18,
   "id": "bee45311",
   "metadata": {},
   "outputs": [],
   "source": [
    "metrics_list = [\"accuracy\",tf.keras.metrics.F1Score()]"
   ]
  },
  {
   "cell_type": "code",
   "execution_count": 19,
   "id": "e765fd8b",
   "metadata": {},
   "outputs": [],
   "source": [
    "model.compile(optimizer=tf.keras.optimizers.Adam(learning_rate=0.0001), loss=\"categorical_crossentropy\", metrics=metrics_list)"
   ]
  },
  {
   "cell_type": "code",
   "execution_count": 20,
   "id": "d2ec7549",
   "metadata": {},
   "outputs": [
    {
     "data": {
      "text/html": [
       "<pre style=\"white-space:pre;overflow-x:auto;line-height:normal;font-family:Menlo,'DejaVu Sans Mono',consolas,'Courier New',monospace\"><span style=\"font-weight: bold\">Model: \"sequential\"</span>\n",
       "</pre>\n"
      ],
      "text/plain": [
       "\u001b[1mModel: \"sequential\"\u001b[0m\n"
      ]
     },
     "metadata": {},
     "output_type": "display_data"
    },
    {
     "data": {
      "text/html": [
       "<pre style=\"white-space:pre;overflow-x:auto;line-height:normal;font-family:Menlo,'DejaVu Sans Mono',consolas,'Courier New',monospace\">┏━━━━━━━━━━━━━━━━━━━━━━━━━━━━━━━━━┳━━━━━━━━━━━━━━━━━━━━━━━━┳━━━━━━━━━━━━━━━┓\n",
       "┃<span style=\"font-weight: bold\"> Layer (type)                    </span>┃<span style=\"font-weight: bold\"> Output Shape           </span>┃<span style=\"font-weight: bold\">       Param # </span>┃\n",
       "┡━━━━━━━━━━━━━━━━━━━━━━━━━━━━━━━━━╇━━━━━━━━━━━━━━━━━━━━━━━━╇━━━━━━━━━━━━━━━┩\n",
       "│ MobileNetV3Large (<span style=\"color: #0087ff; text-decoration-color: #0087ff\">Functional</span>)   │ (<span style=\"color: #00d7ff; text-decoration-color: #00d7ff\">None</span>, <span style=\"color: #00af00; text-decoration-color: #00af00\">1000</span>)           │     <span style=\"color: #00af00; text-decoration-color: #00af00\">5,507,432</span> │\n",
       "├─────────────────────────────────┼────────────────────────┼───────────────┤\n",
       "│ dense (<span style=\"color: #0087ff; text-decoration-color: #0087ff\">Dense</span>)                   │ (<span style=\"color: #00d7ff; text-decoration-color: #00d7ff\">None</span>, <span style=\"color: #00af00; text-decoration-color: #00af00\">4</span>)              │         <span style=\"color: #00af00; text-decoration-color: #00af00\">4,004</span> │\n",
       "└─────────────────────────────────┴────────────────────────┴───────────────┘\n",
       "</pre>\n"
      ],
      "text/plain": [
       "┏━━━━━━━━━━━━━━━━━━━━━━━━━━━━━━━━━┳━━━━━━━━━━━━━━━━━━━━━━━━┳━━━━━━━━━━━━━━━┓\n",
       "┃\u001b[1m \u001b[0m\u001b[1mLayer (type)                   \u001b[0m\u001b[1m \u001b[0m┃\u001b[1m \u001b[0m\u001b[1mOutput Shape          \u001b[0m\u001b[1m \u001b[0m┃\u001b[1m \u001b[0m\u001b[1m      Param #\u001b[0m\u001b[1m \u001b[0m┃\n",
       "┡━━━━━━━━━━━━━━━━━━━━━━━━━━━━━━━━━╇━━━━━━━━━━━━━━━━━━━━━━━━╇━━━━━━━━━━━━━━━┩\n",
       "│ MobileNetV3Large (\u001b[38;5;33mFunctional\u001b[0m)   │ (\u001b[38;5;45mNone\u001b[0m, \u001b[38;5;34m1000\u001b[0m)           │     \u001b[38;5;34m5,507,432\u001b[0m │\n",
       "├─────────────────────────────────┼────────────────────────┼───────────────┤\n",
       "│ dense (\u001b[38;5;33mDense\u001b[0m)                   │ (\u001b[38;5;45mNone\u001b[0m, \u001b[38;5;34m4\u001b[0m)              │         \u001b[38;5;34m4,004\u001b[0m │\n",
       "└─────────────────────────────────┴────────────────────────┴───────────────┘\n"
      ]
     },
     "metadata": {},
     "output_type": "display_data"
    },
    {
     "data": {
      "text/html": [
       "<pre style=\"white-space:pre;overflow-x:auto;line-height:normal;font-family:Menlo,'DejaVu Sans Mono',consolas,'Courier New',monospace\"><span style=\"font-weight: bold\"> Total params: </span><span style=\"color: #00af00; text-decoration-color: #00af00\">5,511,436</span> (21.02 MB)\n",
       "</pre>\n"
      ],
      "text/plain": [
       "\u001b[1m Total params: \u001b[0m\u001b[38;5;34m5,511,436\u001b[0m (21.02 MB)\n"
      ]
     },
     "metadata": {},
     "output_type": "display_data"
    },
    {
     "data": {
      "text/html": [
       "<pre style=\"white-space:pre;overflow-x:auto;line-height:normal;font-family:Menlo,'DejaVu Sans Mono',consolas,'Courier New',monospace\"><span style=\"font-weight: bold\"> Trainable params: </span><span style=\"color: #00af00; text-decoration-color: #00af00\">5,487,036</span> (20.93 MB)\n",
       "</pre>\n"
      ],
      "text/plain": [
       "\u001b[1m Trainable params: \u001b[0m\u001b[38;5;34m5,487,036\u001b[0m (20.93 MB)\n"
      ]
     },
     "metadata": {},
     "output_type": "display_data"
    },
    {
     "data": {
      "text/html": [
       "<pre style=\"white-space:pre;overflow-x:auto;line-height:normal;font-family:Menlo,'DejaVu Sans Mono',consolas,'Courier New',monospace\"><span style=\"font-weight: bold\"> Non-trainable params: </span><span style=\"color: #00af00; text-decoration-color: #00af00\">24,400</span> (95.31 KB)\n",
       "</pre>\n"
      ],
      "text/plain": [
       "\u001b[1m Non-trainable params: \u001b[0m\u001b[38;5;34m24,400\u001b[0m (95.31 KB)\n"
      ]
     },
     "metadata": {},
     "output_type": "display_data"
    }
   ],
   "source": [
    "model.summary()"
   ]
  },
  {
   "cell_type": "code",
   "execution_count": 49,
   "id": "fe2a9a7f",
   "metadata": {},
   "outputs": [
    {
     "name": "stdout",
     "output_type": "stream",
     "text": [
      "Calculating class weights...\n",
      "Class weights calculated:\n",
      "{np.int64(0): np.float64(0.7296037073766115), np.int64(1): np.float64(2.356337767923134), np.int64(2): np.float64(3.082299387689333), np.int64(3): np.float64(0.5317529814027188)}\n"
     ]
    },
    {
     "name": "stderr",
     "output_type": "stream",
     "text": [
      "2025-10-30 04:57:11.549055: I tensorflow/core/framework/local_rendezvous.cc:407] Local rendezvous is aborting with status: OUT_OF_RANGE: End of sequence\n"
     ]
    }
   ],
   "source": [
    "from sklearn.utils import compute_class_weight\n",
    "import numpy as np\n",
    "\n",
    "print(\"Calculating class weights...\")\n",
    "\n",
    "# Get all labels from your training_set\n",
    "y_train_labels = np.concatenate([y for x, y in training_set], axis=0)\n",
    "\n",
    "# Convert from one-hot encoding to class indices\n",
    "y_train_indices = np.argmax(y_train_labels, axis=1)\n",
    "\n",
    "# Get the unique class numbers\n",
    "classes = np.unique(y_train_indices)\n",
    "\n",
    "# Calculate the weights\n",
    "weights = compute_class_weight(\n",
    "    class_weight='balanced',\n",
    "    classes=classes,\n",
    "    y=y_train_indices\n",
    ")\n",
    "\n",
    "# Create the dictionary Keras needs\n",
    "class_weights_dict = dict(zip(classes, weights))\n",
    "\n",
    "print(\"Class weights calculated:\")\n",
    "print(class_weights_dict)"
   ]
  },
  {
   "cell_type": "code",
   "execution_count": 50,
   "id": "f26642dc",
   "metadata": {},
   "outputs": [
    {
     "name": "stdout",
     "output_type": "stream",
     "text": [
      "Epoch 1/15\n"
     ]
    },
    {
     "name": "stderr",
     "output_type": "stream",
     "text": [
      "2025-10-30 04:58:48.256180: E external/local_xla/xla/stream_executor/cuda/cuda_timer.cc:86] Delay kernel timed out: measured time has sub-optimal accuracy. There may be a missing warmup execution, please investigate in Nsight Systems.\n",
      "2025-10-30 04:58:48.384955: E external/local_xla/xla/stream_executor/cuda/cuda_timer.cc:86] Delay kernel timed out: measured time has sub-optimal accuracy. There may be a missing warmup execution, please investigate in Nsight Systems.\n",
      "2025-10-30 04:58:49.435941: E external/local_xla/xla/stream_executor/cuda/cuda_timer.cc:86] Delay kernel timed out: measured time has sub-optimal accuracy. There may be a missing warmup execution, please investigate in Nsight Systems.\n",
      "2025-10-30 04:58:49.531709: E external/local_xla/xla/stream_executor/cuda/cuda_timer.cc:86] Delay kernel timed out: measured time has sub-optimal accuracy. There may be a missing warmup execution, please investigate in Nsight Systems.\n",
      "2025-10-30 04:58:49.628651: E external/local_xla/xla/stream_executor/cuda/cuda_timer.cc:86] Delay kernel timed out: measured time has sub-optimal accuracy. There may be a missing warmup execution, please investigate in Nsight Systems.\n",
      "2025-10-30 04:58:50.214893: E external/local_xla/xla/stream_executor/cuda/cuda_timer.cc:86] Delay kernel timed out: measured time has sub-optimal accuracy. There may be a missing warmup execution, please investigate in Nsight Systems.\n",
      "2025-10-30 04:58:50.317094: E external/local_xla/xla/stream_executor/cuda/cuda_timer.cc:86] Delay kernel timed out: measured time has sub-optimal accuracy. There may be a missing warmup execution, please investigate in Nsight Systems.\n",
      "2025-10-30 04:58:50.424775: E external/local_xla/xla/stream_executor/cuda/cuda_timer.cc:86] Delay kernel timed out: measured time has sub-optimal accuracy. There may be a missing warmup execution, please investigate in Nsight Systems.\n",
      "2025-10-30 04:58:50.525185: E external/local_xla/xla/stream_executor/cuda/cuda_timer.cc:86] Delay kernel timed out: measured time has sub-optimal accuracy. There may be a missing warmup execution, please investigate in Nsight Systems.\n",
      "2025-10-30 04:58:53.321808: E external/local_xla/xla/stream_executor/cuda/cuda_timer.cc:86] Delay kernel timed out: measured time has sub-optimal accuracy. There may be a missing warmup execution, please investigate in Nsight Systems.\n",
      "2025-10-30 04:58:53.451375: E external/local_xla/xla/stream_executor/cuda/cuda_timer.cc:86] Delay kernel timed out: measured time has sub-optimal accuracy. There may be a missing warmup execution, please investigate in Nsight Systems.\n"
     ]
    },
    {
     "name": "stdout",
     "output_type": "stream",
     "text": [
      "\u001b[1m2390/2392\u001b[0m \u001b[32m━━━━━━━━━━━━━━━━━━━\u001b[0m\u001b[37m━\u001b[0m \u001b[1m0s\u001b[0m 29ms/step - accuracy: 0.8274 - f1_score: 0.6144 - loss: 1.0353"
     ]
    },
    {
     "name": "stderr",
     "output_type": "stream",
     "text": [
      "2025-10-30 05:00:18.155282: E external/local_xla/xla/stream_executor/cuda/cuda_timer.cc:86] Delay kernel timed out: measured time has sub-optimal accuracy. There may be a missing warmup execution, please investigate in Nsight Systems.\n",
      "2025-10-30 05:00:18.279394: E external/local_xla/xla/stream_executor/cuda/cuda_timer.cc:86] Delay kernel timed out: measured time has sub-optimal accuracy. There may be a missing warmup execution, please investigate in Nsight Systems.\n",
      "2025-10-30 05:00:18.415429: E external/local_xla/xla/stream_executor/cuda/cuda_timer.cc:86] Delay kernel timed out: measured time has sub-optimal accuracy. There may be a missing warmup execution, please investigate in Nsight Systems.\n",
      "2025-10-30 05:00:18.559053: E external/local_xla/xla/stream_executor/cuda/cuda_timer.cc:86] Delay kernel timed out: measured time has sub-optimal accuracy. There may be a missing warmup execution, please investigate in Nsight Systems.\n",
      "2025-10-30 05:00:18.705701: E external/local_xla/xla/stream_executor/cuda/cuda_timer.cc:86] Delay kernel timed out: measured time has sub-optimal accuracy. There may be a missing warmup execution, please investigate in Nsight Systems.\n",
      "2025-10-30 05:00:18.831353: E external/local_xla/xla/stream_executor/cuda/cuda_timer.cc:86] Delay kernel timed out: measured time has sub-optimal accuracy. There may be a missing warmup execution, please investigate in Nsight Systems.\n",
      "2025-10-30 05:00:18.877255: E external/local_xla/xla/service/slow_operation_alarm.cc:73] Trying algorithm eng3{k11=0} for conv (f32[3,672,14,14]{3,2,1,0}, u8[0]{0}) custom-call(f32[3,672,14,14]{3,2,1,0}, f32[672,1,3,3]{3,2,1,0}), window={size=3x3 pad=1_1x1_1}, dim_labels=bf01_oi01->bf01, feature_group_count=672, custom_call_target=\"__cudnn$convForward\", backend_config={\"operation_queue_id\":\"0\",\"wait_on_operation_queues\":[],\"cudnn_conv_backend_config\":{\"activation_mode\":\"kNone\",\"conv_result_scale\":1,\"side_input_scale\":0,\"leakyrelu_alpha\":0},\"force_earliest_schedule\":false,\"reification_cost\":[]} is taking a while...\n",
      "2025-10-30 05:00:18.959613: E external/local_xla/xla/stream_executor/cuda/cuda_timer.cc:86] Delay kernel timed out: measured time has sub-optimal accuracy. There may be a missing warmup execution, please investigate in Nsight Systems.\n",
      "2025-10-30 05:00:19.086367: E external/local_xla/xla/stream_executor/cuda/cuda_timer.cc:86] Delay kernel timed out: measured time has sub-optimal accuracy. There may be a missing warmup execution, please investigate in Nsight Systems.\n",
      "2025-10-30 05:00:19.087855: E external/local_xla/xla/service/slow_operation_alarm.cc:140] The operation took 1.210691291s\n",
      "Trying algorithm eng3{k11=0} for conv (f32[3,672,14,14]{3,2,1,0}, u8[0]{0}) custom-call(f32[3,672,14,14]{3,2,1,0}, f32[672,1,3,3]{3,2,1,0}), window={size=3x3 pad=1_1x1_1}, dim_labels=bf01_oi01->bf01, feature_group_count=672, custom_call_target=\"__cudnn$convForward\", backend_config={\"operation_queue_id\":\"0\",\"wait_on_operation_queues\":[],\"cudnn_conv_backend_config\":{\"activation_mode\":\"kNone\",\"conv_result_scale\":1,\"side_input_scale\":0,\"leakyrelu_alpha\":0},\"force_earliest_schedule\":false,\"reification_cost\":[]} is taking a while...\n",
      "2025-10-30 05:00:19.671409: E external/local_xla/xla/stream_executor/cuda/cuda_timer.cc:86] Delay kernel timed out: measured time has sub-optimal accuracy. There may be a missing warmup execution, please investigate in Nsight Systems.\n",
      "2025-10-30 05:00:19.816327: E external/local_xla/xla/stream_executor/cuda/cuda_timer.cc:86] Delay kernel timed out: measured time has sub-optimal accuracy. There may be a missing warmup execution, please investigate in Nsight Systems.\n",
      "2025-10-30 05:00:19.962741: E external/local_xla/xla/stream_executor/cuda/cuda_timer.cc:86] Delay kernel timed out: measured time has sub-optimal accuracy. There may be a missing warmup execution, please investigate in Nsight Systems.\n",
      "2025-10-30 05:00:20.554811: E external/local_xla/xla/stream_executor/cuda/cuda_timer.cc:86] Delay kernel timed out: measured time has sub-optimal accuracy. There may be a missing warmup execution, please investigate in Nsight Systems.\n",
      "2025-10-30 05:00:20.684172: E external/local_xla/xla/stream_executor/cuda/cuda_timer.cc:86] Delay kernel timed out: measured time has sub-optimal accuracy. There may be a missing warmup execution, please investigate in Nsight Systems.\n",
      "2025-10-30 05:00:20.816863: E external/local_xla/xla/stream_executor/cuda/cuda_timer.cc:86] Delay kernel timed out: measured time has sub-optimal accuracy. There may be a missing warmup execution, please investigate in Nsight Systems.\n",
      "2025-10-30 05:00:20.945751: E external/local_xla/xla/stream_executor/cuda/cuda_timer.cc:86] Delay kernel timed out: measured time has sub-optimal accuracy. There may be a missing warmup execution, please investigate in Nsight Systems.\n"
     ]
    },
    {
     "name": "stdout",
     "output_type": "stream",
     "text": [
      "\u001b[1m2392/2392\u001b[0m \u001b[32m━━━━━━━━━━━━━━━━━━━━\u001b[0m\u001b[37m\u001b[0m \u001b[1m0s\u001b[0m 37ms/step - accuracy: 0.8275 - f1_score: 0.6144 - loss: 1.0352"
     ]
    },
    {
     "name": "stderr",
     "output_type": "stream",
     "text": [
      "2025-10-30 05:00:43.059829: E external/local_xla/xla/stream_executor/cuda/cuda_timer.cc:86] Delay kernel timed out: measured time has sub-optimal accuracy. There may be a missing warmup execution, please investigate in Nsight Systems.\n",
      "2025-10-30 05:00:43.183623: E external/local_xla/xla/stream_executor/cuda/cuda_timer.cc:86] Delay kernel timed out: measured time has sub-optimal accuracy. There may be a missing warmup execution, please investigate in Nsight Systems.\n",
      "2025-10-30 05:00:43.589743: E external/local_xla/xla/stream_executor/cuda/cuda_timer.cc:86] Delay kernel timed out: measured time has sub-optimal accuracy. There may be a missing warmup execution, please investigate in Nsight Systems.\n",
      "2025-10-30 05:00:43.733604: E external/local_xla/xla/stream_executor/cuda/cuda_timer.cc:86] Delay kernel timed out: measured time has sub-optimal accuracy. There may be a missing warmup execution, please investigate in Nsight Systems.\n",
      "2025-10-30 05:00:43.877470: E external/local_xla/xla/stream_executor/cuda/cuda_timer.cc:86] Delay kernel timed out: measured time has sub-optimal accuracy. There may be a missing warmup execution, please investigate in Nsight Systems.\n"
     ]
    },
    {
     "name": "stdout",
     "output_type": "stream",
     "text": [
      "\u001b[1m2392/2392\u001b[0m \u001b[32m━━━━━━━━━━━━━━━━━━━━\u001b[0m\u001b[37m\u001b[0m \u001b[1m125s\u001b[0m 43ms/step - accuracy: 0.8468 - f1_score: 0.6381 - loss: 0.8590 - val_accuracy: 0.7845 - val_f1_score: 0.5871 - val_loss: 0.8688\n",
      "Epoch 2/15\n",
      "\u001b[1m2392/2392\u001b[0m \u001b[32m━━━━━━━━━━━━━━━━━━━━\u001b[0m\u001b[37m\u001b[0m \u001b[1m76s\u001b[0m 32ms/step - accuracy: 0.8771 - f1_score: 0.6934 - loss: 0.5830 - val_accuracy: 0.8276 - val_f1_score: 0.6510 - val_loss: 0.6384\n",
      "Epoch 3/15\n",
      "\u001b[1m2392/2392\u001b[0m \u001b[32m━━━━━━━━━━━━━━━━━━━━\u001b[0m\u001b[37m\u001b[0m \u001b[1m75s\u001b[0m 31ms/step - accuracy: 0.9112 - f1_score: 0.8453 - loss: 0.3990 - val_accuracy: 0.8963 - val_f1_score: 0.8476 - val_loss: 0.4177\n",
      "Epoch 4/15\n",
      "\u001b[1m2392/2392\u001b[0m \u001b[32m━━━━━━━━━━━━━━━━━━━━\u001b[0m\u001b[37m\u001b[0m \u001b[1m76s\u001b[0m 32ms/step - accuracy: 0.9481 - f1_score: 0.9155 - loss: 0.2254 - val_accuracy: 0.8872 - val_f1_score: 0.7915 - val_loss: 0.4715\n",
      "Epoch 5/15\n",
      "\u001b[1m2392/2392\u001b[0m \u001b[32m━━━━━━━━━━━━━━━━━━━━\u001b[0m\u001b[37m\u001b[0m \u001b[1m76s\u001b[0m 32ms/step - accuracy: 0.9561 - f1_score: 0.9283 - loss: 0.1839 - val_accuracy: 0.8955 - val_f1_score: 0.7977 - val_loss: 0.5360\n",
      "Epoch 6/15\n",
      "\u001b[1m2392/2392\u001b[0m \u001b[32m━━━━━━━━━━━━━━━━━━━━\u001b[0m\u001b[37m\u001b[0m \u001b[1m75s\u001b[0m 32ms/step - accuracy: 0.9613 - f1_score: 0.9361 - loss: 0.1628 - val_accuracy: 0.9613 - val_f1_score: 0.9331 - val_loss: 0.1679\n",
      "Epoch 7/15\n",
      "\u001b[1m2392/2392\u001b[0m \u001b[32m━━━━━━━━━━━━━━━━━━━━\u001b[0m\u001b[37m\u001b[0m \u001b[1m76s\u001b[0m 32ms/step - accuracy: 0.9645 - f1_score: 0.9417 - loss: 0.1458 - val_accuracy: 0.9506 - val_f1_score: 0.9208 - val_loss: 0.1903\n",
      "Epoch 8/15\n",
      "\u001b[1m2392/2392\u001b[0m \u001b[32m━━━━━━━━━━━━━━━━━━━━\u001b[0m\u001b[37m\u001b[0m \u001b[1m76s\u001b[0m 32ms/step - accuracy: 0.9661 - f1_score: 0.9443 - loss: 0.1423 - val_accuracy: 0.9486 - val_f1_score: 0.9221 - val_loss: 0.2514\n",
      "Epoch 9/15\n",
      "\u001b[1m2392/2392\u001b[0m \u001b[32m━━━━━━━━━━━━━━━━━━━━\u001b[0m\u001b[37m\u001b[0m \u001b[1m75s\u001b[0m 31ms/step - accuracy: 0.9666 - f1_score: 0.9452 - loss: 0.1320 - val_accuracy: 0.9582 - val_f1_score: 0.9290 - val_loss: 0.1983\n",
      "Epoch 10/15\n",
      "\u001b[1m2392/2392\u001b[0m \u001b[32m━━━━━━━━━━━━━━━━━━━━\u001b[0m\u001b[37m\u001b[0m \u001b[1m75s\u001b[0m 31ms/step - accuracy: 0.9671 - f1_score: 0.9460 - loss: 0.1307 - val_accuracy: 0.9482 - val_f1_score: 0.9067 - val_loss: 0.2695\n",
      "Epoch 11/15\n",
      "\u001b[1m2392/2392\u001b[0m \u001b[32m━━━━━━━━━━━━━━━━━━━━\u001b[0m\u001b[37m\u001b[0m \u001b[1m76s\u001b[0m 32ms/step - accuracy: 0.9678 - f1_score: 0.9471 - loss: 0.1337 - val_accuracy: 0.9587 - val_f1_score: 0.9300 - val_loss: 0.2063\n",
      "Epoch 12/15\n",
      "\u001b[1m2392/2392\u001b[0m \u001b[32m━━━━━━━━━━━━━━━━━━━━\u001b[0m\u001b[37m\u001b[0m \u001b[1m75s\u001b[0m 31ms/step - accuracy: 0.9664 - f1_score: 0.9448 - loss: 0.1360 - val_accuracy: 0.9626 - val_f1_score: 0.9370 - val_loss: 0.1861\n",
      "Epoch 13/15\n",
      "\u001b[1m2392/2392\u001b[0m \u001b[32m━━━━━━━━━━━━━━━━━━━━\u001b[0m\u001b[37m\u001b[0m \u001b[1m75s\u001b[0m 31ms/step - accuracy: 0.9681 - f1_score: 0.9473 - loss: 0.1357 - val_accuracy: 0.9593 - val_f1_score: 0.9322 - val_loss: 0.2290\n",
      "Epoch 14/15\n",
      "\u001b[1m2392/2392\u001b[0m \u001b[32m━━━━━━━━━━━━━━━━━━━━\u001b[0m\u001b[37m\u001b[0m \u001b[1m76s\u001b[0m 32ms/step - accuracy: 0.9702 - f1_score: 0.9509 - loss: 0.1327 - val_accuracy: 0.9543 - val_f1_score: 0.9202 - val_loss: 0.2307\n",
      "Epoch 15/15\n",
      "\u001b[1m2392/2392\u001b[0m \u001b[32m━━━━━━━━━━━━━━━━━━━━\u001b[0m\u001b[37m\u001b[0m \u001b[1m75s\u001b[0m 31ms/step - accuracy: 0.9708 - f1_score: 0.9514 - loss: 0.1317 - val_accuracy: 0.9575 - val_f1_score: 0.9254 - val_loss: 0.2049\n"
     ]
    }
   ],
   "source": [
    "training_history = model.fit(\n",
    "    x=training_set,\n",
    "    validation_data=validation_set,\n",
    "    epochs=15,\n",
    "    class_weight=class_weights_dict  # <-- This is the new part you must add\n",
    ")"
   ]
  },
  {
   "cell_type": "code",
   "execution_count": 51,
   "id": "cbe626da",
   "metadata": {},
   "outputs": [
    {
     "name": "stderr",
     "output_type": "stream",
     "text": [
      "WARNING:absl:You are saving your model as an HDF5 file via `model.save()` or `keras.saving.save_model(model)`. This file format is considered legacy. We recommend using instead the native Keras format, e.g. `model.save('my_model.keras')` or `keras.saving.save_model(model, 'my_model.keras')`. \n"
     ]
    }
   ],
   "source": [
    "model.save(\"./Trained_Eye_disease_model.h5\")\n",
    "model.save(\"./Trained_Eye_disease_model.keras\")"
   ]
  },
  {
   "cell_type": "code",
   "execution_count": 52,
   "id": "b273054f",
   "metadata": {},
   "outputs": [
    {
     "data": {
      "text/plain": [
       "{'accuracy': [0.846788227558136,\n",
       "  0.8770829439163208,\n",
       "  0.9111807942390442,\n",
       "  0.9481016993522644,\n",
       "  0.9561131596565247,\n",
       "  0.9612886309623718,\n",
       "  0.964529812335968,\n",
       "  0.9660981297492981,\n",
       "  0.9666339755058289,\n",
       "  0.9671044945716858,\n",
       "  0.967771053314209,\n",
       "  0.966359555721283,\n",
       "  0.9680977463722229,\n",
       "  0.9702149629592896,\n",
       "  0.9708423018455505],\n",
       " 'f1_score': [<tf.Tensor: shape=(4,), dtype=float32, numpy=array([0.85529935, 0.7570376 , 0.00315606, 0.9370049 ], dtype=float32)>,\n",
       "  <tf.Tensor: shape=(4,), dtype=float32, numpy=array([0.8751157 , 0.8657191 , 0.06805854, 0.96483123], dtype=float32)>,\n",
       "  <tf.Tensor: shape=(4,), dtype=float32, numpy=array([0.9070056 , 0.904035  , 0.59792197, 0.97242707], dtype=float32)>,\n",
       "  <tf.Tensor: shape=(4,), dtype=float32, numpy=array([0.9523921, 0.9304588, 0.8012921, 0.9778413], dtype=float32)>,\n",
       "  <tf.Tensor: shape=(4,), dtype=float32, numpy=array([0.96141195, 0.93897444, 0.83269095, 0.9801043 ], dtype=float32)>,\n",
       "  <tf.Tensor: shape=(4,), dtype=float32, numpy=array([0.9664718 , 0.94605505, 0.84962505, 0.98239017], dtype=float32)>,\n",
       "  <tf.Tensor: shape=(4,), dtype=float32, numpy=array([0.96951824, 0.9502922 , 0.86381775, 0.9833321 ], dtype=float32)>,\n",
       "  <tf.Tensor: shape=(4,), dtype=float32, numpy=array([0.970542  , 0.95289916, 0.8693726 , 0.9843084 ], dtype=float32)>,\n",
       "  <tf.Tensor: shape=(4,), dtype=float32, numpy=array([0.97155714, 0.9530872 , 0.8718968 , 0.98425597], dtype=float32)>,\n",
       "  <tf.Tensor: shape=(4,), dtype=float32, numpy=array([0.97373265, 0.95379436, 0.8729574 , 0.9833745 ], dtype=float32)>,\n",
       "  <tf.Tensor: shape=(4,), dtype=float32, numpy=array([0.9730903 , 0.95695215, 0.87386054, 0.984358  ], dtype=float32)>,\n",
       "  <tf.Tensor: shape=(4,), dtype=float32, numpy=array([0.9717461 , 0.96086526, 0.86257493, 0.9838802 ], dtype=float32)>,\n",
       "  <tf.Tensor: shape=(4,), dtype=float32, numpy=array([0.97341216, 0.9642944 , 0.8667783 , 0.98463345], dtype=float32)>,\n",
       "  <tf.Tensor: shape=(4,), dtype=float32, numpy=array([0.9746666 , 0.9605391 , 0.88251036, 0.985736  ], dtype=float32)>,\n",
       "  <tf.Tensor: shape=(4,), dtype=float32, numpy=array([0.9746381 , 0.9668679 , 0.8775722 , 0.98663265], dtype=float32)>],\n",
       " 'loss': [0.8589670062065125,\n",
       "  0.5829738974571228,\n",
       "  0.3989626169204712,\n",
       "  0.22538067400455475,\n",
       "  0.18394123017787933,\n",
       "  0.16276700794696808,\n",
       "  0.14584185183048248,\n",
       "  0.14225554466247559,\n",
       "  0.13197554647922516,\n",
       "  0.13072074949741364,\n",
       "  0.1337350606918335,\n",
       "  0.13603158295154572,\n",
       "  0.135713592171669,\n",
       "  0.13267424702644348,\n",
       "  0.13169972598552704],\n",
       " 'val_accuracy': [0.7844563126564026,\n",
       "  0.8275924921035767,\n",
       "  0.8962535858154297,\n",
       "  0.8872421383857727,\n",
       "  0.8955217003822327,\n",
       "  0.9612551927566528,\n",
       "  0.9506427049636841,\n",
       "  0.9486299753189087,\n",
       "  0.9582361578941345,\n",
       "  0.9481725692749023,\n",
       "  0.9587392807006836,\n",
       "  0.9625817537307739,\n",
       "  0.9593339562416077,\n",
       "  0.954302191734314,\n",
       "  0.95745849609375],\n",
       " 'val_f1_score': [<tf.Tensor: shape=(4,), dtype=float32, numpy=array([0.78592664, 0.7067356 , 0.0011217 , 0.8544233 ], dtype=float32)>,\n",
       "  <tf.Tensor: shape=(4,), dtype=float32, numpy=array([0.84398293, 0.80460805, 0.03454746, 0.92104125], dtype=float32)>,\n",
       "  <tf.Tensor: shape=(4,), dtype=float32, numpy=array([0.94935787, 0.71596694, 0.8004647 , 0.9245915 ], dtype=float32)>,\n",
       "  <tf.Tensor: shape=(4,), dtype=float32, numpy=array([0.9415536 , 0.8596448 , 0.44361365, 0.9210452 ], dtype=float32)>,\n",
       "  <tf.Tensor: shape=(4,), dtype=float32, numpy=array([0.92038983, 0.6114082 , 0.7108354 , 0.94806886], dtype=float32)>,\n",
       "  <tf.Tensor: shape=(4,), dtype=float32, numpy=array([0.96565837, 0.91996396, 0.8633504 , 0.98352236], dtype=float32)>,\n",
       "  <tf.Tensor: shape=(4,), dtype=float32, numpy=array([0.95574486, 0.88101465, 0.8679452 , 0.9786693 ], dtype=float32)>,\n",
       "  <tf.Tensor: shape=(4,), dtype=float32, numpy=array([0.9461994, 0.9091303, 0.8573671, 0.975856 ], dtype=float32)>,\n",
       "  <tf.Tensor: shape=(4,), dtype=float32, numpy=array([0.96354574, 0.925068  , 0.84625995, 0.98093814], dtype=float32)>,\n",
       "  <tf.Tensor: shape=(4,), dtype=float32, numpy=array([0.94864196, 0.8937277 , 0.8038216 , 0.9806426 ], dtype=float32)>,\n",
       "  <tf.Tensor: shape=(4,), dtype=float32, numpy=array([0.9675075 , 0.92855525, 0.84364384, 0.9803293 ], dtype=float32)>,\n",
       "  <tf.Tensor: shape=(4,), dtype=float32, numpy=array([0.96871644, 0.9311101 , 0.8670651 , 0.9812575 ], dtype=float32)>,\n",
       "  <tf.Tensor: shape=(4,), dtype=float32, numpy=array([0.96201664, 0.9418319 , 0.8411451 , 0.9839093 ], dtype=float32)>,\n",
       "  <tf.Tensor: shape=(4,), dtype=float32, numpy=array([0.96012545, 0.89306694, 0.8483754 , 0.97941947], dtype=float32)>,\n",
       "  <tf.Tensor: shape=(4,), dtype=float32, numpy=array([0.9628601 , 0.9089285 , 0.8480523 , 0.98173225], dtype=float32)>],\n",
       " 'val_loss': [0.8687828183174133,\n",
       "  0.6384100317955017,\n",
       "  0.4177006185054779,\n",
       "  0.4715244174003601,\n",
       "  0.5360461473464966,\n",
       "  0.167928084731102,\n",
       "  0.19028176367282867,\n",
       "  0.2514016032218933,\n",
       "  0.1982632726430893,\n",
       "  0.26945021748542786,\n",
       "  0.20627520978450775,\n",
       "  0.18613047897815704,\n",
       "  0.2289600670337677,\n",
       "  0.23069697618484497,\n",
       "  0.20488221943378448]}"
      ]
     },
     "execution_count": 52,
     "metadata": {},
     "output_type": "execute_result"
    }
   ],
   "source": [
    "training_history.history"
   ]
  },
  {
   "cell_type": "code",
   "execution_count": 53,
   "id": "a4accd5c",
   "metadata": {},
   "outputs": [],
   "source": [
    "#Saving History\n",
    "import pickle\n",
    "with open(\"Training_history.pkl\",\"wb\") as f:\n",
    "    pickle.dump(training_history.history,f)"
   ]
  },
  {
   "cell_type": "code",
   "execution_count": 54,
   "id": "e1b3d129",
   "metadata": {},
   "outputs": [
    {
     "name": "stdout",
     "output_type": "stream",
     "text": [
      "{'accuracy': [0.846788227558136, 0.8770829439163208, 0.9111807942390442, 0.9481016993522644, 0.9561131596565247, 0.9612886309623718, 0.964529812335968, 0.9660981297492981, 0.9666339755058289, 0.9671044945716858, 0.967771053314209, 0.966359555721283, 0.9680977463722229, 0.9702149629592896, 0.9708423018455505], 'f1_score': [<tf.Tensor: shape=(4,), dtype=float32, numpy=array([0.85529935, 0.7570376 , 0.00315606, 0.9370049 ], dtype=float32)>, <tf.Tensor: shape=(4,), dtype=float32, numpy=array([0.8751157 , 0.8657191 , 0.06805854, 0.96483123], dtype=float32)>, <tf.Tensor: shape=(4,), dtype=float32, numpy=array([0.9070056 , 0.904035  , 0.59792197, 0.97242707], dtype=float32)>, <tf.Tensor: shape=(4,), dtype=float32, numpy=array([0.9523921, 0.9304588, 0.8012921, 0.9778413], dtype=float32)>, <tf.Tensor: shape=(4,), dtype=float32, numpy=array([0.96141195, 0.93897444, 0.83269095, 0.9801043 ], dtype=float32)>, <tf.Tensor: shape=(4,), dtype=float32, numpy=array([0.9664718 , 0.94605505, 0.84962505, 0.98239017], dtype=float32)>, <tf.Tensor: shape=(4,), dtype=float32, numpy=array([0.96951824, 0.9502922 , 0.86381775, 0.9833321 ], dtype=float32)>, <tf.Tensor: shape=(4,), dtype=float32, numpy=array([0.970542  , 0.95289916, 0.8693726 , 0.9843084 ], dtype=float32)>, <tf.Tensor: shape=(4,), dtype=float32, numpy=array([0.97155714, 0.9530872 , 0.8718968 , 0.98425597], dtype=float32)>, <tf.Tensor: shape=(4,), dtype=float32, numpy=array([0.97373265, 0.95379436, 0.8729574 , 0.9833745 ], dtype=float32)>, <tf.Tensor: shape=(4,), dtype=float32, numpy=array([0.9730903 , 0.95695215, 0.87386054, 0.984358  ], dtype=float32)>, <tf.Tensor: shape=(4,), dtype=float32, numpy=array([0.9717461 , 0.96086526, 0.86257493, 0.9838802 ], dtype=float32)>, <tf.Tensor: shape=(4,), dtype=float32, numpy=array([0.97341216, 0.9642944 , 0.8667783 , 0.98463345], dtype=float32)>, <tf.Tensor: shape=(4,), dtype=float32, numpy=array([0.9746666 , 0.9605391 , 0.88251036, 0.985736  ], dtype=float32)>, <tf.Tensor: shape=(4,), dtype=float32, numpy=array([0.9746381 , 0.9668679 , 0.8775722 , 0.98663265], dtype=float32)>], 'loss': [0.8589670062065125, 0.5829738974571228, 0.3989626169204712, 0.22538067400455475, 0.18394123017787933, 0.16276700794696808, 0.14584185183048248, 0.14225554466247559, 0.13197554647922516, 0.13072074949741364, 0.1337350606918335, 0.13603158295154572, 0.135713592171669, 0.13267424702644348, 0.13169972598552704], 'val_accuracy': [0.7844563126564026, 0.8275924921035767, 0.8962535858154297, 0.8872421383857727, 0.8955217003822327, 0.9612551927566528, 0.9506427049636841, 0.9486299753189087, 0.9582361578941345, 0.9481725692749023, 0.9587392807006836, 0.9625817537307739, 0.9593339562416077, 0.954302191734314, 0.95745849609375], 'val_f1_score': [<tf.Tensor: shape=(4,), dtype=float32, numpy=array([0.78592664, 0.7067356 , 0.0011217 , 0.8544233 ], dtype=float32)>, <tf.Tensor: shape=(4,), dtype=float32, numpy=array([0.84398293, 0.80460805, 0.03454746, 0.92104125], dtype=float32)>, <tf.Tensor: shape=(4,), dtype=float32, numpy=array([0.94935787, 0.71596694, 0.8004647 , 0.9245915 ], dtype=float32)>, <tf.Tensor: shape=(4,), dtype=float32, numpy=array([0.9415536 , 0.8596448 , 0.44361365, 0.9210452 ], dtype=float32)>, <tf.Tensor: shape=(4,), dtype=float32, numpy=array([0.92038983, 0.6114082 , 0.7108354 , 0.94806886], dtype=float32)>, <tf.Tensor: shape=(4,), dtype=float32, numpy=array([0.96565837, 0.91996396, 0.8633504 , 0.98352236], dtype=float32)>, <tf.Tensor: shape=(4,), dtype=float32, numpy=array([0.95574486, 0.88101465, 0.8679452 , 0.9786693 ], dtype=float32)>, <tf.Tensor: shape=(4,), dtype=float32, numpy=array([0.9461994, 0.9091303, 0.8573671, 0.975856 ], dtype=float32)>, <tf.Tensor: shape=(4,), dtype=float32, numpy=array([0.96354574, 0.925068  , 0.84625995, 0.98093814], dtype=float32)>, <tf.Tensor: shape=(4,), dtype=float32, numpy=array([0.94864196, 0.8937277 , 0.8038216 , 0.9806426 ], dtype=float32)>, <tf.Tensor: shape=(4,), dtype=float32, numpy=array([0.9675075 , 0.92855525, 0.84364384, 0.9803293 ], dtype=float32)>, <tf.Tensor: shape=(4,), dtype=float32, numpy=array([0.96871644, 0.9311101 , 0.8670651 , 0.9812575 ], dtype=float32)>, <tf.Tensor: shape=(4,), dtype=float32, numpy=array([0.96201664, 0.9418319 , 0.8411451 , 0.9839093 ], dtype=float32)>, <tf.Tensor: shape=(4,), dtype=float32, numpy=array([0.96012545, 0.89306694, 0.8483754 , 0.97941947], dtype=float32)>, <tf.Tensor: shape=(4,), dtype=float32, numpy=array([0.9628601 , 0.9089285 , 0.8480523 , 0.98173225], dtype=float32)>], 'val_loss': [0.8687828183174133, 0.6384100317955017, 0.4177006185054779, 0.4715244174003601, 0.5360461473464966, 0.167928084731102, 0.19028176367282867, 0.2514016032218933, 0.1982632726430893, 0.26945021748542786, 0.20627520978450775, 0.18613047897815704, 0.2289600670337677, 0.23069697618484497, 0.20488221943378448]}\n"
     ]
    }
   ],
   "source": [
    "#Reloading History from pickle file\n",
    "import pickle\n",
    "with open(\"Training_history.pkl\",\"rb\") as f:\n",
    "    load_history = pickle.load(f)\n",
    "print(load_history)"
   ]
  },
  {
   "cell_type": "code",
   "execution_count": 55,
   "id": "c5998779",
   "metadata": {},
   "outputs": [
    {
     "data": {
      "text/plain": [
       "dict_keys(['accuracy', 'f1_score', 'loss', 'val_accuracy', 'val_f1_score', 'val_loss'])"
      ]
     },
     "execution_count": 55,
     "metadata": {},
     "output_type": "execute_result"
    }
   ],
   "source": [
    "load_history.keys()"
   ]
  },
  {
   "cell_type": "code",
   "execution_count": 56,
   "id": "fad573fc",
   "metadata": {},
   "outputs": [
    {
     "data": {
      "image/png": "[encoded data removed]",
      "text/plain": [
       "<Figure size 640x480 with 1 Axes>"
      ]
     },
     "metadata": {},
     "output_type": "display_data"
    }
   ],
   "source": [
    "#Loss Visualization\n",
    "epochs = [i for i in range(1,16)]\n",
    "plt.plot(epochs,load_history['loss'],color='red', label='Training Loss')\n",
    "plt.plot(epochs,load_history['val_loss'],color='blue', label='Validation Loss')\n",
    "plt.xlabel(\"No. of Epochs\")\n",
    "plt.ylabel(\"Loss\")\n",
    "plt.title(\"Visualization of Loss Result\")\n",
    "plt.legend()\n",
    "plt.show()"
   ]
  },
  {
   "cell_type": "markdown",
   "id": "c1acc9a6",
   "metadata": {},
   "source": [
    "Model Evaluation"
   ]
  },
  {
   "cell_type": "code",
   "execution_count": 57,
   "id": "9652b0ac",
   "metadata": {},
   "outputs": [],
   "source": [
    "model = tf.keras.models.load_model(\"Trained_Eye_disease_model.keras\")"
   ]
  },
  {
   "cell_type": "code",
   "execution_count": 58,
   "id": "a7730102",
   "metadata": {},
   "outputs": [
    {
     "data": {
      "text/html": [
       "<pre style=\"white-space:pre;overflow-x:auto;line-height:normal;font-family:Menlo,'DejaVu Sans Mono',consolas,'Courier New',monospace\"><span style=\"font-weight: bold\">Model: \"sequential\"</span>\n",
       "</pre>\n"
      ],
      "text/plain": [
       "\u001b[1mModel: \"sequential\"\u001b[0m\n"
      ]
     },
     "metadata": {},
     "output_type": "display_data"
    },
    {
     "data": {
      "text/html": [
       "<pre style=\"white-space:pre;overflow-x:auto;line-height:normal;font-family:Menlo,'DejaVu Sans Mono',consolas,'Courier New',monospace\">┏━━━━━━━━━━━━━━━━━━━━━━━━━━━━━━━━━┳━━━━━━━━━━━━━━━━━━━━━━━━┳━━━━━━━━━━━━━━━┓\n",
       "┃<span style=\"font-weight: bold\"> Layer (type)                    </span>┃<span style=\"font-weight: bold\"> Output Shape           </span>┃<span style=\"font-weight: bold\">       Param # </span>┃\n",
       "┡━━━━━━━━━━━━━━━━━━━━━━━━━━━━━━━━━╇━━━━━━━━━━━━━━━━━━━━━━━━╇━━━━━━━━━━━━━━━┩\n",
       "│ MobileNetV3Large (<span style=\"color: #0087ff; text-decoration-color: #0087ff\">Functional</span>)   │ (<span style=\"color: #00d7ff; text-decoration-color: #00d7ff\">None</span>, <span style=\"color: #00af00; text-decoration-color: #00af00\">1000</span>)           │     <span style=\"color: #00af00; text-decoration-color: #00af00\">5,507,432</span> │\n",
       "├─────────────────────────────────┼────────────────────────┼───────────────┤\n",
       "│ dense (<span style=\"color: #0087ff; text-decoration-color: #0087ff\">Dense</span>)                   │ (<span style=\"color: #00d7ff; text-decoration-color: #00d7ff\">None</span>, <span style=\"color: #00af00; text-decoration-color: #00af00\">4</span>)              │         <span style=\"color: #00af00; text-decoration-color: #00af00\">4,004</span> │\n",
       "└─────────────────────────────────┴────────────────────────┴───────────────┘\n",
       "</pre>\n"
      ],
      "text/plain": [
       "┏━━━━━━━━━━━━━━━━━━━━━━━━━━━━━━━━━┳━━━━━━━━━━━━━━━━━━━━━━━━┳━━━━━━━━━━━━━━━┓\n",
       "┃\u001b[1m \u001b[0m\u001b[1mLayer (type)                   \u001b[0m\u001b[1m \u001b[0m┃\u001b[1m \u001b[0m\u001b[1mOutput Shape          \u001b[0m\u001b[1m \u001b[0m┃\u001b[1m \u001b[0m\u001b[1m      Param #\u001b[0m\u001b[1m \u001b[0m┃\n",
       "┡━━━━━━━━━━━━━━━━━━━━━━━━━━━━━━━━━╇━━━━━━━━━━━━━━━━━━━━━━━━╇━━━━━━━━━━━━━━━┩\n",
       "│ MobileNetV3Large (\u001b[38;5;33mFunctional\u001b[0m)   │ (\u001b[38;5;45mNone\u001b[0m, \u001b[38;5;34m1000\u001b[0m)           │     \u001b[38;5;34m5,507,432\u001b[0m │\n",
       "├─────────────────────────────────┼────────────────────────┼───────────────┤\n",
       "│ dense (\u001b[38;5;33mDense\u001b[0m)                   │ (\u001b[38;5;45mNone\u001b[0m, \u001b[38;5;34m4\u001b[0m)              │         \u001b[38;5;34m4,004\u001b[0m │\n",
       "└─────────────────────────────────┴────────────────────────┴───────────────┘\n"
      ]
     },
     "metadata": {},
     "output_type": "display_data"
    },
    {
     "data": {
      "text/html": [
       "<pre style=\"white-space:pre;overflow-x:auto;line-height:normal;font-family:Menlo,'DejaVu Sans Mono',consolas,'Courier New',monospace\"><span style=\"font-weight: bold\"> Total params: </span><span style=\"color: #00af00; text-decoration-color: #00af00\">10,998,474</span> (41.96 MB)\n",
       "</pre>\n"
      ],
      "text/plain": [
       "\u001b[1m Total params: \u001b[0m\u001b[38;5;34m10,998,474\u001b[0m (41.96 MB)\n"
      ]
     },
     "metadata": {},
     "output_type": "display_data"
    },
    {
     "data": {
      "text/html": [
       "<pre style=\"white-space:pre;overflow-x:auto;line-height:normal;font-family:Menlo,'DejaVu Sans Mono',consolas,'Courier New',monospace\"><span style=\"font-weight: bold\"> Trainable params: </span><span style=\"color: #00af00; text-decoration-color: #00af00\">5,487,036</span> (20.93 MB)\n",
       "</pre>\n"
      ],
      "text/plain": [
       "\u001b[1m Trainable params: \u001b[0m\u001b[38;5;34m5,487,036\u001b[0m (20.93 MB)\n"
      ]
     },
     "metadata": {},
     "output_type": "display_data"
    },
    {
     "data": {
      "text/html": [
       "<pre style=\"white-space:pre;overflow-x:auto;line-height:normal;font-family:Menlo,'DejaVu Sans Mono',consolas,'Courier New',monospace\"><span style=\"font-weight: bold\"> Non-trainable params: </span><span style=\"color: #00af00; text-decoration-color: #00af00\">24,400</span> (95.31 KB)\n",
       "</pre>\n"
      ],
      "text/plain": [
       "\u001b[1m Non-trainable params: \u001b[0m\u001b[38;5;34m24,400\u001b[0m (95.31 KB)\n"
      ]
     },
     "metadata": {},
     "output_type": "display_data"
    },
    {
     "data": {
      "text/html": [
       "<pre style=\"white-space:pre;overflow-x:auto;line-height:normal;font-family:Menlo,'DejaVu Sans Mono',consolas,'Courier New',monospace\"><span style=\"font-weight: bold\"> Optimizer params: </span><span style=\"color: #00af00; text-decoration-color: #00af00\">5,487,038</span> (20.93 MB)\n",
       "</pre>\n"
      ],
      "text/plain": [
       "\u001b[1m Optimizer params: \u001b[0m\u001b[38;5;34m5,487,038\u001b[0m (20.93 MB)\n"
      ]
     },
     "metadata": {},
     "output_type": "display_data"
    }
   ],
   "source": [
    "model.summary()"
   ]
  },
  {
   "cell_type": "code",
   "execution_count": 59,
   "id": "cc3cad35",
   "metadata": {},
   "outputs": [
    {
     "name": "stdout",
     "output_type": "stream",
     "text": [
      "Found 10933 files belonging to 4 classes.\n"
     ]
    }
   ],
   "source": [
    "test_set = image_dataset_from_directory(\n",
    "    \"./test\",\n",
    "    labels=\"inferred\",\n",
    "    label_mode=\"categorical\",\n",
    "    class_names=None,\n",
    "    color_mode=\"rgb\",\n",
    "    batch_size=32,\n",
    "    image_size=(224, 224),\n",
    "    shuffle=False,\n",
    "    seed=None,\n",
    "    validation_split=None,\n",
    "    subset=None,\n",
    "    interpolation=\"bilinear\",\n",
    "    follow_links=False,\n",
    "    crop_to_aspect_ratio=False,\n",
    ")"
   ]
  },
  {
   "cell_type": "code",
   "execution_count": 60,
   "id": "a0b1d8b0",
   "metadata": {},
   "outputs": [
    {
     "name": "stdout",
     "output_type": "stream",
     "text": [
      "\u001b[1m342/342\u001b[0m \u001b[32m━━━━━━━━━━━━━━━━━━━━\u001b[0m\u001b[37m\u001b[0m \u001b[1m9s\u001b[0m 17ms/step - accuracy: 0.9577 - f1_score: 0.9255 - loss: 0.2080\n"
     ]
    }
   ],
   "source": [
    "test_loss,test_acc,f1_score = model.evaluate(test_set)"
   ]
  },
  {
   "cell_type": "code",
   "execution_count": 61,
   "id": "6be4eda6",
   "metadata": {},
   "outputs": [
    {
     "data": {
      "text/plain": [
       "(0.20800034701824188,\n",
       " 0.9577426314353943,\n",
       " <tf.Tensor: shape=(4,), dtype=float32, numpy=array([0.9665299, 0.9128297, 0.842985 , 0.9795093], dtype=float32)>)"
      ]
     },
     "execution_count": 61,
     "metadata": {},
     "output_type": "execute_result"
    }
   ],
   "source": [
    "test_loss,test_acc,f1_score"
   ]
  },
  {
   "cell_type": "code",
   "execution_count": 62,
   "id": "f2deded6",
   "metadata": {},
   "outputs": [],
   "source": [
    "#Computing True Label from test set\n",
    "true_categories = tf.concat([y for x,y in test_set], axis=0)\n",
    "Y_true = tf.argmax(true_categories,axis=1)"
   ]
  },
  {
   "cell_type": "code",
   "execution_count": 63,
   "id": "20d68ab2",
   "metadata": {},
   "outputs": [
    {
     "data": {
      "text/plain": [
       "<tf.Tensor: shape=(10933, 4), dtype=float32, numpy=\n",
       "array([[1., 0., 0., 0.],\n",
       "       [1., 0., 0., 0.],\n",
       "       [1., 0., 0., 0.],\n",
       "       ...,\n",
       "       [0., 0., 0., 1.],\n",
       "       [0., 0., 0., 1.],\n",
       "       [0., 0., 0., 1.]], shape=(10933, 4), dtype=float32)>"
      ]
     },
     "execution_count": 63,
     "metadata": {},
     "output_type": "execute_result"
    }
   ],
   "source": [
    "true_categories"
   ]
  },
  {
   "cell_type": "code",
   "execution_count": 64,
   "id": "dfd1537b",
   "metadata": {},
   "outputs": [
    {
     "data": {
      "text/plain": [
       "<tf.Tensor: shape=(10933,), dtype=int64, numpy=array([0, 0, 0, ..., 3, 3, 3], shape=(10933,))>"
      ]
     },
     "execution_count": 64,
     "metadata": {},
     "output_type": "execute_result"
    }
   ],
   "source": [
    "Y_true"
   ]
  },
  {
   "cell_type": "code",
   "execution_count": 65,
   "id": "d29c1b14",
   "metadata": {},
   "outputs": [
    {
     "name": "stdout",
     "output_type": "stream",
     "text": [
      "\u001b[1m342/342\u001b[0m \u001b[32m━━━━━━━━━━━━━━━━━━━━\u001b[0m\u001b[37m\u001b[0m \u001b[1m9s\u001b[0m 18ms/step\n"
     ]
    },
    {
     "data": {
      "text/plain": [
       "array([[9.9294668e-01, 3.7153080e-04, 6.6540665e-03, 2.7721097e-05],\n",
       "       [9.9294668e-01, 3.7153080e-04, 6.6540665e-03, 2.7721097e-05],\n",
       "       [9.9294668e-01, 3.7153080e-04, 6.6540665e-03, 2.7721097e-05],\n",
       "       ...,\n",
       "       [1.6028065e-05, 1.2290656e-03, 8.5364077e-03, 9.9021846e-01],\n",
       "       [1.6028065e-05, 1.2290656e-03, 8.5364077e-03, 9.9021846e-01],\n",
       "       [1.6028065e-05, 1.2290656e-03, 8.5364077e-03, 9.9021846e-01]],\n",
       "      shape=(10933, 4), dtype=float32)"
      ]
     },
     "execution_count": 65,
     "metadata": {},
     "output_type": "execute_result"
    }
   ],
   "source": [
    "#Computing Predicted labels using test_set\n",
    "predicted_categories = model.predict(test_set)\n",
    "predicted_categories"
   ]
  },
  {
   "cell_type": "code",
   "execution_count": 66,
   "id": "c086a3c3",
   "metadata": {},
   "outputs": [
    {
     "data": {
      "text/plain": [
       "<tf.Tensor: shape=(10933,), dtype=int64, numpy=array([0, 0, 0, ..., 3, 3, 3], shape=(10933,))>"
      ]
     },
     "execution_count": 66,
     "metadata": {},
     "output_type": "execute_result"
    }
   ],
   "source": [
    "Y_pred = tf.argmax(predicted_categories,axis=1)\n",
    "Y_pred"
   ]
  },
  {
   "cell_type": "markdown",
   "id": "b54191ec",
   "metadata": {},
   "source": [
    "1. Classification Report\n"
   ]
  },
  {
   "cell_type": "code",
   "execution_count": 67,
   "id": "46608c3e",
   "metadata": {},
   "outputs": [
    {
     "name": "stdout",
     "output_type": "stream",
     "text": [
      "              precision    recall  f1-score   support\n",
      "\n",
      "           0       0.96      0.98      0.97      3746\n",
      "           1       0.95      0.88      0.91      1161\n",
      "           2       0.90      0.80      0.84       887\n",
      "           3       0.97      0.99      0.98      5139\n",
      "\n",
      "    accuracy                           0.96     10933\n",
      "   macro avg       0.94      0.91      0.93     10933\n",
      "weighted avg       0.96      0.96      0.96     10933\n",
      "\n"
     ]
    }
   ],
   "source": [
    "from sklearn.metrics import classification_report\n",
    "print(classification_report(Y_true,Y_pred))"
   ]
  },
  {
   "cell_type": "markdown",
   "id": "e5d86aac",
   "metadata": {},
   "source": [
    "2. Confusion Matrix"
   ]
  },
  {
   "cell_type": "code",
   "execution_count": 68,
   "id": "d835edea",
   "metadata": {},
   "outputs": [
    {
     "data": {
      "text/plain": [
       "array([[3653,   40,   43,   10],\n",
       "       [  35, 1021,   10,   95],\n",
       "       [ 116,    5,  706,   60],\n",
       "       [   9,   10,   29, 5091]])"
      ]
     },
     "execution_count": 68,
     "metadata": {},
     "output_type": "execute_result"
    }
   ],
   "source": [
    "from sklearn.metrics import confusion_matrix\n",
    "cm = confusion_matrix(Y_true,Y_pred)\n",
    "cm"
   ]
  },
  {
   "cell_type": "code",
   "execution_count": 72,
   "id": "5239fbc6",
   "metadata": {},
   "outputs": [
    {
     "data": {
      "image/png": "[encoded data removed]",
      "text/plain": [
       "<Figure size 1000x1000 with 2 Axes>"
      ]
     },
     "metadata": {},
     "output_type": "display_data"
    }
   ],
   "source": [
    "plt.figure(figsize=(10,10))\n",
    "sns.heatmap(cm,annot=True,annot_kws={\"size\":8})\n",
    "plt.xlabel(\"Predicted Class\",fontsize=18)\n",
    "plt.ylabel(\"Actual Class\",fontsize=18)\n",
    "plt.title(\"Human Eye Disease Prediction Confusion Matrix\",fontsize=12)\n",
    "plt.show()"
   ]
  },
  {
   "cell_type": "code",
   "execution_count": null,
   "id": "b8da27db",
   "metadata": {},
   "outputs": [],
   "source": []
  },
  {
   "cell_type": "code",
   "execution_count": null,
   "id": "dde51f01",
   "metadata": {},
   "outputs": [],
   "source": []
  },
  {
   "cell_type": "code",
   "execution_count": null,
   "id": "ac858a45",
   "metadata": {},
   "outputs": [],
   "source": []
  },
  {
   "cell_type": "code",
   "execution_count": null,
   "id": "d091d846",
   "metadata": {},
   "outputs": [],
   "source": []
  },
  {
   "cell_type": "code",
   "execution_count": null,
   "id": "e8b2d67b",
   "metadata": {},
   "outputs": [],
   "source": []
  },
  {
   "cell_type": "code",
   "execution_count": null,
   "id": "3990d538",
   "metadata": {},
   "outputs": [],
   "source": []
  },
  {
   "cell_type": "code",
   "execution_count": null,
   "id": "482f5b8f",
   "metadata": {},
   "outputs": [],
   "source": []
  }
 ],
 "metadata": {
  "kernelspec": {
   "display_name": "Python (myenv)",
   "language": "python",
   "name": "myenv"
  },
  "language_info": {
   "codemirror_mode": {
    "name": "ipython",
    "version": 3
   },
   "file_extension": ".py",
   "mimetype": "text/x-python",
   "name": "python",
   "nbconvert_exporter": "python",
   "pygments_lexer": "ipython3",
   "version": "3.12.3"
  }
 },
 "nbformat": 4,
 "nbformat_minor": 5
}
